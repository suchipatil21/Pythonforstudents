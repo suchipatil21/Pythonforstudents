{
  "cells": [
    {
      "cell_type": "code",
      "execution_count": null,
      "id": "39fae000",
      "metadata": {
        "id": "39fae000"
      },
      "outputs": [],
      "source": [
        "l = [1,2,3,4,\"sudh\" ,\"kumar\" , 45.56]"
      ]
    },
    {
      "cell_type": "code",
      "execution_count": null,
      "id": "8efb4581",
      "metadata": {
        "id": "8efb4581"
      },
      "outputs": [],
      "source": [
        "for i in l :\n",
        "    print(i)"
      ]
    },
    {
      "cell_type": "code",
      "execution_count": null,
      "id": "a3c4aaa1",
      "metadata": {
        "id": "a3c4aaa1"
      },
      "outputs": [],
      "source": [
        "for i in l :\n",
        "    pass"
      ]
    },
    {
      "cell_type": "code",
      "execution_count": null,
      "id": "e158d612",
      "metadata": {
        "id": "e158d612"
      },
      "outputs": [],
      "source": [
        "s = \"sudh\"\n",
        "for i in s :\n",
        "    print(i)"
      ]
    },
    {
      "cell_type": "code",
      "execution_count": null,
      "id": "0027fea7",
      "metadata": {
        "id": "0027fea7"
      },
      "outputs": [],
      "source": [
        "for i in l :\n",
        "    print(i)\n",
        "else :\n",
        "    print(\"if for loop is going to complete itself the it will execute else \")"
      ]
    },
    {
      "cell_type": "code",
      "execution_count": null,
      "id": "d9a80907",
      "metadata": {
        "id": "d9a80907"
      },
      "outputs": [],
      "source": [
        "l"
      ]
    },
    {
      "cell_type": "code",
      "execution_count": null,
      "id": "62d285ec",
      "metadata": {
        "id": "62d285ec"
      },
      "outputs": [],
      "source": [
        "for i in l :\n",
        "    if i == 4 :\n",
        "        break\n",
        "    print(i)\n",
        "else :\n",
        "    print(\"this will execute only if for is going to complete itself\")"
      ]
    },
    {
      "cell_type": "code",
      "execution_count": null,
      "id": "3c6cb81e",
      "metadata": {
        "id": "3c6cb81e"
      },
      "outputs": [],
      "source": [
        "s = \"sudhanshu\"\n",
        "for i in s :\n",
        "    if i == 'z' :\n",
        "        break\n",
        "    print(i)\n",
        "else :\n",
        "    print(\"print srtring \" , s )\n",
        "        "
      ]
    },
    {
      "cell_type": "code",
      "execution_count": null,
      "id": "c05c6c17",
      "metadata": {
        "id": "c05c6c17"
      },
      "outputs": [],
      "source": [
        "t = (4,5,6,7,8,6,\"sudh\")\n",
        "for i in t :\n",
        "    print(i)"
      ]
    },
    {
      "cell_type": "code",
      "execution_count": null,
      "id": "aee7e59b",
      "metadata": {
        "id": "aee7e59b"
      },
      "outputs": [],
      "source": [
        "b = {4,5,6,7,7,7,7,7,7,7,7, 8,\"sudh\"}"
      ]
    },
    {
      "cell_type": "code",
      "execution_count": null,
      "id": "a124b211",
      "metadata": {
        "id": "a124b211"
      },
      "outputs": [],
      "source": [
        "type(b)"
      ]
    },
    {
      "cell_type": "code",
      "execution_count": null,
      "id": "9e379087",
      "metadata": {
        "id": "9e379087"
      },
      "outputs": [],
      "source": [
        "b"
      ]
    },
    {
      "cell_type": "code",
      "execution_count": null,
      "id": "927717fe",
      "metadata": {
        "id": "927717fe"
      },
      "outputs": [],
      "source": [
        "for i in b :\n",
        "    print(i)"
      ]
    },
    {
      "cell_type": "code",
      "execution_count": null,
      "id": "444d8f49",
      "metadata": {
        "id": "444d8f49"
      },
      "outputs": [],
      "source": [
        "d = {'key1' :\"sudh\" , 'contact' : \"sudhanshu@ineuron.ai\" , \"position\" : \"xyz\"}"
      ]
    },
    {
      "cell_type": "code",
      "execution_count": null,
      "id": "c49b2c4c",
      "metadata": {
        "id": "c49b2c4c"
      },
      "outputs": [],
      "source": [
        "for i in d :\n",
        "    print(i ,\":\" ,  d[i] )"
      ]
    },
    {
      "cell_type": "code",
      "execution_count": null,
      "id": "94395d44",
      "metadata": {
        "id": "94395d44"
      },
      "outputs": [],
      "source": [
        "d['key1']"
      ]
    },
    {
      "cell_type": "code",
      "execution_count": null,
      "id": "554220c4",
      "metadata": {
        "id": "554220c4"
      },
      "outputs": [],
      "source": [
        "range(9)"
      ]
    },
    {
      "cell_type": "code",
      "execution_count": null,
      "id": "9203e12d",
      "metadata": {
        "id": "9203e12d"
      },
      "outputs": [],
      "source": [
        "list(range(9))"
      ]
    },
    {
      "cell_type": "code",
      "execution_count": null,
      "id": "16549fcf",
      "metadata": {
        "id": "16549fcf"
      },
      "outputs": [],
      "source": [
        "for i in range(9):\n",
        "    print(i)"
      ]
    },
    {
      "cell_type": "code",
      "execution_count": null,
      "id": "4753ccf8",
      "metadata": {
        "id": "4753ccf8"
      },
      "outputs": [],
      "source": [
        "list(range(0,9))"
      ]
    },
    {
      "cell_type": "code",
      "execution_count": null,
      "id": "1f883fd8",
      "metadata": {
        "id": "1f883fd8"
      },
      "outputs": [],
      "source": [
        "list(range(0,9 , 2))"
      ]
    },
    {
      "cell_type": "code",
      "execution_count": null,
      "id": "692f4890",
      "metadata": {
        "id": "692f4890"
      },
      "outputs": [],
      "source": [
        "list(range(0,9 , -1))"
      ]
    },
    {
      "cell_type": "code",
      "execution_count": null,
      "id": "097f8d2e",
      "metadata": {
        "id": "097f8d2e"
      },
      "outputs": [],
      "source": [
        "list(range(9,0 , -1))"
      ]
    },
    {
      "cell_type": "code",
      "execution_count": null,
      "id": "eb744426",
      "metadata": {
        "id": "eb744426"
      },
      "outputs": [],
      "source": [
        "n = 4 \n",
        "for i in range(4) :\n",
        "    for j in range(0 ,i+1) : \n",
        "        print(\"sudh\" , end = \"     \")\n",
        "    print(\"\\n\")"
      ]
    },
    {
      "cell_type": "code",
      "execution_count": null,
      "id": "6d5e1b53",
      "metadata": {
        "id": "6d5e1b53"
      },
      "outputs": [],
      "source": [
        "n=3\n",
        "for i in range(n):\n",
        "    for j in range(i,n-1):\n",
        "        print(\" \" * len(\"sudh\"),end=\" \")\n",
        "    for j in range(i+1):\n",
        "        print(\"sudh\",end=\" \")\n",
        "    for j in range(i): \n",
        "        print(\"sudh\",end=\" \")\n",
        "    print()\n"
      ]
    },
    {
      "cell_type": "code",
      "execution_count": null,
      "id": "539c7a4b",
      "metadata": {
        "id": "539c7a4b"
      },
      "outputs": [],
      "source": [
        "n=4\n",
        "k=n\n",
        "for i in range(n):\n",
        "    k=k-1\n",
        "    print('  '*k, end='')\n",
        "    for j in range(i+1):\n",
        "        print('sudh ', end= '')\n",
        "    print()\n"
      ]
    },
    {
      "cell_type": "code",
      "execution_count": null,
      "id": "dc823bf5",
      "metadata": {
        "id": "dc823bf5"
      },
      "outputs": [],
      "source": [
        "n=3\n",
        "for i in range(n):\n",
        "    for j in range(i,n-1):\n",
        "        print(\"\",end=' ')\n",
        "    for j in range(i+1):\n",
        "        print(\"sudh\",end=' ')\n",
        "    print()\n"
      ]
    },
    {
      "cell_type": "code",
      "execution_count": null,
      "id": "5cce0196",
      "metadata": {
        "id": "5cce0196"
      },
      "outputs": [],
      "source": [
        "n = 3\n",
        "\n",
        "for i in range(n+1):\n",
        "    print(' '*(n-i) + 'sudh '*i)\n"
      ]
    },
    {
      "cell_type": "code",
      "execution_count": null,
      "id": "1965a936",
      "metadata": {
        "id": "1965a936"
      },
      "outputs": [],
      "source": [
        "list(range(0))"
      ]
    },
    {
      "cell_type": "code",
      "execution_count": null,
      "id": "ae20e482",
      "metadata": {
        "id": "ae20e482"
      },
      "outputs": [],
      "source": [
        "t = (3,23,45,67,2,4,5,6)"
      ]
    },
    {
      "cell_type": "code",
      "execution_count": null,
      "id": "fa3a7dd7",
      "metadata": {
        "id": "fa3a7dd7"
      },
      "outputs": [],
      "source": [
        "t[0]"
      ]
    },
    {
      "cell_type": "code",
      "execution_count": null,
      "id": "787cc580",
      "metadata": {
        "id": "787cc580"
      },
      "outputs": [],
      "source": [
        "for i in range(len(t)):\n",
        "    print(i,t[i])"
      ]
    },
    {
      "cell_type": "code",
      "execution_count": null,
      "id": "d945f1c1",
      "metadata": {
        "id": "d945f1c1"
      },
      "outputs": [],
      "source": [
        "list(range(len(t)))"
      ]
    },
    {
      "cell_type": "code",
      "execution_count": null,
      "id": "45ec0df8",
      "metadata": {
        "id": "45ec0df8"
      },
      "outputs": [],
      "source": [
        "t = (3,23,45,67,2,4,5,6)\n",
        "\n",
        "for i in range(len(t)):\n",
        "    print(i,t[i])\n"
      ]
    },
    {
      "cell_type": "code",
      "execution_count": null,
      "id": "f03784cb",
      "metadata": {
        "id": "f03784cb"
      },
      "outputs": [],
      "source": [
        "s = \"ineuron\"\n",
        "for i in range(len(s)) : \n",
        "    print(i , s[i])"
      ]
    },
    {
      "cell_type": "code",
      "execution_count": null,
      "id": "a3373360",
      "metadata": {
        "id": "a3373360"
      },
      "outputs": [],
      "source": [
        "s "
      ]
    },
    {
      "cell_type": "code",
      "execution_count": null,
      "id": "c9c66ea9",
      "metadata": {
        "id": "c9c66ea9"
      },
      "outputs": [],
      "source": [
        "for i in range(len(s)-1 , -1, -1):\n",
        "    print(i , s[i])"
      ]
    },
    {
      "cell_type": "code",
      "execution_count": null,
      "id": "07908b6b",
      "metadata": {
        "id": "07908b6b"
      },
      "outputs": [],
      "source": [
        "d"
      ]
    },
    {
      "cell_type": "code",
      "execution_count": null,
      "id": "1a11f6a0",
      "metadata": {
        "id": "1a11f6a0"
      },
      "outputs": [],
      "source": [
        "for i in d.items():\n",
        "    print(i , type(i) , type(i[1]))"
      ]
    },
    {
      "cell_type": "code",
      "execution_count": null,
      "id": "27105750",
      "metadata": {
        "id": "27105750"
      },
      "outputs": [],
      "source": [
        "l = [\"sudh\" , \"kuamr\" , 3234545 , \"sudhanshu@ineuron.ai\" , 345, 34345353]\n",
        "l1 = []\n",
        "for i in l :\n",
        "    if type(i) == int :\n",
        "        l1.append(i)\n",
        "\n"
      ]
    },
    {
      "cell_type": "code",
      "execution_count": null,
      "id": "b4ac33cc",
      "metadata": {
        "id": "b4ac33cc"
      },
      "outputs": [],
      "source": [
        "l1"
      ]
    },
    {
      "cell_type": "code",
      "execution_count": null,
      "id": "bf54b65b",
      "metadata": {
        "id": "bf54b65b"
      },
      "outputs": [],
      "source": [
        " d = {1: 3345345  , \"name\" : \"sudh\" , \"email_id\" : \"sudhanshu@ineuron.ai\" , 234 : \"fsfddsf\" , \"43\" : \"sfsaf\" , 234 : \"3454\"}"
      ]
    },
    {
      "cell_type": "code",
      "execution_count": null,
      "id": "c502d0ca",
      "metadata": {
        "id": "c502d0ca"
      },
      "outputs": [],
      "source": [
        "for i in d :\n",
        "    if type(i) == int :\n",
        "        print(i , \":\"  , d[i])"
      ]
    },
    {
      "cell_type": "code",
      "execution_count": null,
      "id": "bc5be456",
      "metadata": {
        "id": "bc5be456"
      },
      "outputs": [],
      "source": [
        "s = \"aaaabbccd\""
      ]
    },
    {
      "cell_type": "code",
      "execution_count": null,
      "id": "b62dc9a2",
      "metadata": {
        "id": "b62dc9a2"
      },
      "outputs": [],
      "source": [
        "for i in set(s):\n",
        "    print(i  , \":\" , s.count(i))    "
      ]
    },
    {
      "cell_type": "code",
      "execution_count": null,
      "id": "c2546bb9",
      "metadata": {
        "id": "c2546bb9"
      },
      "outputs": [],
      "source": [
        "s.count('a')"
      ]
    },
    {
      "cell_type": "code",
      "execution_count": null,
      "id": "35375dc5",
      "metadata": {
        "id": "35375dc5"
      },
      "outputs": [],
      "source": [
        "i = 34534654646435\n",
        "for j in str(i) :\n",
        "    print(int(j ), type(int(j)))"
      ]
    },
    {
      "cell_type": "code",
      "execution_count": null,
      "id": "1a78889b",
      "metadata": {
        "id": "1a78889b"
      },
      "outputs": [],
      "source": [
        "str(i)"
      ]
    },
    {
      "cell_type": "code",
      "execution_count": null,
      "id": "b7c07cb6",
      "metadata": {
        "id": "b7c07cb6"
      },
      "outputs": [],
      "source": [
        "t = (\"sudh\" , \"kumar\" ,[1,2,3,4,5] , (3,4,5,6) , {3:3 , \"key2\" :\"kumar\"})"
      ]
    },
    {
      "cell_type": "code",
      "execution_count": null,
      "id": "ee62969e",
      "metadata": {
        "id": "ee62969e"
      },
      "outputs": [],
      "source": [
        "t=(\"sudh\",\"kumar\",[1,3,5,7,4],(3,5,88,4),{3:3,3:\"kjshdf\",\"key1\":\"sudh\",\"key2\":\"kumar\"})"
      ]
    },
    {
      "cell_type": "code",
      "execution_count": null,
      "id": "3d9496f8",
      "metadata": {
        "id": "3d9496f8"
      },
      "outputs": [],
      "source": [
        "for i in t :\n",
        "    if type(i) == list or type(i) == tuple :\n",
        "        for j in i :\n",
        "            if j == 3 :\n",
        "                print(j)\n",
        "    if type(i) == dict :\n",
        "        for k,v  in i.items():\n",
        "            if k == 3 or v == 3 :\n",
        "                print(k)\n",
        "                print(v)\n",
        "        "
      ]
    },
    {
      "cell_type": "code",
      "execution_count": null,
      "id": "76b278bf",
      "metadata": {
        "id": "76b278bf"
      },
      "outputs": [],
      "source": [
        "d = {4:5 , \"key1\" : \"sudh\" , \"key2\" : \"kumar\"}"
      ]
    },
    {
      "cell_type": "code",
      "execution_count": null,
      "id": "0955b52c",
      "metadata": {
        "id": "0955b52c"
      },
      "outputs": [],
      "source": [
        "d.items()"
      ]
    },
    {
      "cell_type": "code",
      "execution_count": null,
      "id": "b54881ee",
      "metadata": {
        "id": "b54881ee"
      },
      "outputs": [],
      "source": [
        "for i in d.items():\n",
        "    print(i)"
      ]
    },
    {
      "cell_type": "code",
      "execution_count": null,
      "id": "4f78888b",
      "metadata": {
        "id": "4f78888b"
      },
      "outputs": [],
      "source": [
        "d.items()"
      ]
    },
    {
      "cell_type": "code",
      "execution_count": null,
      "id": "99091377",
      "metadata": {
        "id": "99091377"
      },
      "outputs": [],
      "source": [
        "a = 10 \n",
        "b = 20\n",
        "c = 30 "
      ]
    },
    {
      "cell_type": "code",
      "execution_count": null,
      "id": "b1a6b6ca",
      "metadata": {
        "id": "b1a6b6ca"
      },
      "outputs": [],
      "source": [
        "a , b , c = 10 , 20 , 30 "
      ]
    },
    {
      "cell_type": "code",
      "execution_count": null,
      "id": "41ab2383",
      "metadata": {
        "id": "41ab2383"
      },
      "outputs": [],
      "source": [
        "a,b,c = (10,20,30)"
      ]
    },
    {
      "cell_type": "code",
      "execution_count": null,
      "id": "db438917",
      "metadata": {
        "id": "db438917"
      },
      "outputs": [],
      "source": [
        "q1 :\n",
        "ineruon \n",
        "ineruon ineruon \n",
        "ineruon ineruon ineruon\n",
        "ineruon ineruon ineruon ineruon\n",
        "\n",
        "q2 - \n",
        "\n",
        "          ineruon\n",
        "    ineruon      ineruon\n",
        "ineruon\t\tineruon \tineruon\n",
        "\tineruon\t\t ineruon\n",
        "\t\t  ineruon\n",
        "\n",
        "l = [[1,2,3,4] , (2,3,4,5,6) , (3,4,5,6,7) , set([23,4,5,45,4,4,5,45,45,4,5]) , {'k1' :\"sudh\" , \"k2\" : \"ineuron\",\"k3\":\n",
        "            \"kumar\" , 3:6 , 7:8} , [\"ineuron\" , \"data science \"]]\n",
        "\n",
        "q3 : Try to extract all the list entity \n",
        "q4 : Try to extract all the dict enteties\n",
        "q5 : Try to extract all the tuples entities\n",
        "q6 : Try to extract all the numerical data it may b a part of dict key and values \n",
        "q7 : Try to give summation of all the numeric data \n",
        "q8 : Try to filter out all the odd values out all numeric data which is a part of a list \n",
        "q9 : Try to extract \"ineruon\" out of this data\n",
        "q10 :Try to find out a number of occurances of all the data \n",
        "q11 : Try to find out number of keys in dict element\n",
        "q12 : Try to filter out all the string data \n",
        "q13 : Try to Find  out alphanum in data\n",
        "q14 : Try to find out multiplication of all numeric value in  the individual collection inside dataset \n",
        "q15 : Try to unwrape all the collection inside collection and create a flat list \n",
        "    \n",
        "    \n",
        "before 29th may 2022 3 PM IST you have to send an answer to me or to shivan \n",
        "sudhanshu@ineuron.ai\n",
        "shivan@ineuron.ai"
      ]
    },
    {
      "cell_type": "code",
      "execution_count": null,
      "id": "577d9dfb",
      "metadata": {
        "id": "577d9dfb"
      },
      "outputs": [],
      "source": [
        "d= {'key1' :\"sudh\" , (3,4,5,65) : \"fdsfdsd\" , [3,4,5,6] :\"345\"}"
      ]
    },
    {
      "cell_type": "code",
      "execution_count": null,
      "id": "e94d0e64",
      "metadata": {
        "id": "e94d0e64"
      },
      "outputs": [],
      "source": [
        "for i in t:\n",
        "    if type(i) == list or type(i) == tuple:\n",
        "        for j in i:\n",
        "            if j == 3:\n",
        "                print(j)\n",
        "    if type(i) == dict:\n",
        "        for k,v in i.items():\n",
        "            if k == 3 or v == 3:\n",
        "                print(k)\n",
        "                print(v)"
      ]
    },
    {
      "cell_type": "code",
      "execution_count": null,
      "id": "4269cdc2",
      "metadata": {
        "id": "4269cdc2"
      },
      "outputs": [],
      "source": [
        "d1 = {}\n",
        "d1['a'] == None"
      ]
    },
    {
      "cell_type": "code",
      "execution_count": null,
      "id": "b023587b",
      "metadata": {
        "id": "b023587b"
      },
      "outputs": [],
      "source": [
        "s=\"aaaabbccd\"\n",
        "d1={}\n",
        "\n",
        "for i in s:\n",
        "    if d1[i]==None :\n",
        "        key=i\n",
        "        d1={key:0}\n",
        "    else:\n",
        "        d1[i]=d1[i]+1\n",
        "print(d1)\n"
      ]
    },
    {
      "cell_type": "code",
      "execution_count": null,
      "id": "27afcae7",
      "metadata": {
        "id": "27afcae7"
      },
      "outputs": [],
      "source": [
        "s=\"aaaabbccd\"\n",
        "d = {}\n",
        "for i in set(s) : \n",
        "    d[i] =  s.count(i)\n",
        "    "
      ]
    },
    {
      "cell_type": "code",
      "execution_count": null,
      "id": "761bf90f",
      "metadata": {
        "id": "761bf90f"
      },
      "outputs": [],
      "source": [
        "d"
      ]
    },
    {
      "cell_type": "code",
      "execution_count": null,
      "id": "ca866355",
      "metadata": {
        "id": "ca866355"
      },
      "outputs": [],
      "source": [
        "l = list(range(6,-1,-1))\n",
        "s = 'ineuron'\n",
        "t = (l,s)\n",
        "\n",
        "t"
      ]
    },
    {
      "cell_type": "code",
      "execution_count": null,
      "id": "18b0e400",
      "metadata": {
        "id": "18b0e400"
      },
      "outputs": [],
      "source": [
        "print(t)\n",
        "for i,j in t:\n",
        "    print(i,j)"
      ]
    },
    {
      "cell_type": "code",
      "execution_count": null,
      "id": "18fc6daf",
      "metadata": {
        "id": "18fc6daf"
      },
      "outputs": [],
      "source": [
        "d"
      ]
    },
    {
      "cell_type": "code",
      "execution_count": null,
      "id": "c3937a50",
      "metadata": {
        "id": "c3937a50"
      },
      "outputs": [],
      "source": [
        "d.items()"
      ]
    },
    {
      "cell_type": "code",
      "execution_count": null,
      "id": "7cf489b5",
      "metadata": {
        "id": "7cf489b5"
      },
      "outputs": [],
      "source": [
        "1.\ti = j = [3]\n",
        "              i += j\n",
        "              print(i,j)\n",
        "\n",
        "\n",
        "2.\tset = {\"python\", \"coding\", \"tips\", \"for\", \"beginners\"}\n",
        "               print(set)\n",
        "              ''.join(set)\n",
        "3.\ttuple = (\"python\", \"coding\", \"tips\", \"for\", \"beginners\")\n",
        "               print(tuple)\n",
        "              ''.join(tuple)\n",
        "4.\tprint(dict((\"py\", \"th\", \"on\")))\n",
        "5.\tx, y = (0,1) if True else None, None\n",
        "print(x)\n",
        "6.\ti = j = [3]\n",
        "i += j\n",
        "print(i,j)\n"
      ]
    },
    {
      "cell_type": "code",
      "execution_count": null,
      "id": "46d04ef0",
      "metadata": {
        "id": "46d04ef0"
      },
      "outputs": [],
      "source": [
        "i = j = [3]\n",
        "i = [3] + [3]\n",
        "print(i,j)"
      ]
    },
    {
      "cell_type": "code",
      "execution_count": null,
      "id": "91e56cff",
      "metadata": {
        "id": "91e56cff"
      },
      "outputs": [],
      "source": [
        "set = {\"python\", \"coding\", \"tips\", \"for\", \"beginners\"}\n",
        "print(set)\n",
        "' '.join(set)"
      ]
    },
    {
      "cell_type": "code",
      "execution_count": null,
      "id": "691847f4",
      "metadata": {
        "id": "691847f4"
      },
      "outputs": [],
      "source": [
        "tuple = (\"python\", \"coding\", \"tips\", \"for\", \"beginners\")\n",
        "print(tuple)\n",
        "' '.join(tuple)"
      ]
    },
    {
      "cell_type": "code",
      "execution_count": null,
      "id": "bd8d1a9c",
      "metadata": {
        "id": "bd8d1a9c"
      },
      "outputs": [],
      "source": [
        "print(dict((\"py\", \"th\", \"on\")))"
      ]
    },
    {
      "cell_type": "code",
      "execution_count": null,
      "id": "029b152d",
      "metadata": {
        "id": "029b152d"
      },
      "outputs": [],
      "source": [
        "x, y = (0,1) if True else None , None\n",
        "print(x)"
      ]
    },
    {
      "cell_type": "code",
      "execution_count": null,
      "id": "1d89ad27",
      "metadata": {
        "id": "1d89ad27"
      },
      "outputs": [],
      "source": [
        "i = j = [3]\n",
        "i += j\n",
        "print(i,j)"
      ]
    },
    {
      "cell_type": "code",
      "execution_count": null,
      "id": "1416dae1",
      "metadata": {
        "id": "1416dae1"
      },
      "outputs": [],
      "source": [
        "n=5\n",
        "for i in range(n-1):\n",
        "    for j in range(i,n):\n",
        "        print(\" \",end=\" \")\n",
        "    for j in range(i):\n",
        "        print(\"*\",end=\" \")\n",
        "    for j in range(i+1):\n",
        "        print(\"*\",end=\" \")\n",
        "    print()\n",
        "for i in range(n):    \n",
        "    for j in range(i+1):\n",
        "        print(\" \",end=\" \")\n",
        "    for j in range(i,n-1):\n",
        "        print(\"*\",end=\" \")\n",
        "    for j in range(i,n):\n",
        "        print(\"*\",end=\" \")\n",
        "    print()\n"
      ]
    },
    {
      "cell_type": "code",
      "execution_count": null,
      "id": "66aee2a0",
      "metadata": {
        "id": "66aee2a0"
      },
      "outputs": [],
      "source": [
        "s = {1,1,1,11,1,1,4,4,4,4}"
      ]
    },
    {
      "cell_type": "code",
      "execution_count": null,
      "id": "b7a06dfe",
      "metadata": {
        "id": "b7a06dfe"
      },
      "outputs": [],
      "source": [
        "f = frozenset((1,2,2,3,34,4,4,4,4))"
      ]
    },
    {
      "cell_type": "code",
      "execution_count": null,
      "id": "d81c4500",
      "metadata": {
        "id": "d81c4500"
      },
      "outputs": [],
      "source": [
        "s.add(3)"
      ]
    },
    {
      "cell_type": "code",
      "execution_count": null,
      "id": "061f7670",
      "metadata": {
        "id": "061f7670"
      },
      "outputs": [],
      "source": [
        "for i in range(4) :\n",
        "    for j in range (0 , i+1) :\n",
        "        print(\"sudh\" , end = \"*\")\n",
        "    print()"
      ]
    },
    {
      "cell_type": "code",
      "execution_count": null,
      "id": "3f391244",
      "metadata": {
        "id": "3f391244"
      },
      "outputs": [],
      "source": [
        "l= [(3,4,5,6) , [2,4,5,5,6] , {'k1' : 'v1' , 'k2' :'v2'}]\n",
        "l1 = []"
      ]
    },
    {
      "cell_type": "code",
      "execution_count": null,
      "id": "f2e26c2d",
      "metadata": {
        "id": "f2e26c2d"
      },
      "outputs": [],
      "source": [
        "for i in l :\n",
        "    if type(i) == list or type( i )== tuple :\n",
        "        for j in i :\n",
        "            l1.append(j)\n",
        "    if type(i) == dict :\n",
        "        for k in i.items():\n",
        "            for m in k :\n",
        "                l1.append(m)    "
      ]
    },
    {
      "cell_type": "code",
      "execution_count": null,
      "id": "47b4e893",
      "metadata": {
        "id": "47b4e893"
      },
      "outputs": [],
      "source": [
        "l1"
      ]
    },
    {
      "cell_type": "code",
      "execution_count": null,
      "id": "234bf593",
      "metadata": {
        "id": "234bf593"
      },
      "outputs": [],
      "source": [
        "5%2"
      ]
    },
    {
      "cell_type": "code",
      "execution_count": null,
      "id": "f7c7e969",
      "metadata": {
        "id": "f7c7e969"
      },
      "outputs": [],
      "source": [
        "t = (\"sudh\" , \"kumar\" , [1,2,3,4,5] , (3,4,5,6) , {3:3 , \"key2\":\"kumar\"})\n",
        "for i in t :\n",
        "    if type(i) == list or type(i) == tuple :\n",
        "        for j in i :\n",
        "            if j == 3 :\n",
        "                print(j)\n",
        "    if type(i) == dict : \n",
        "        for k,v  in i.items():\n",
        "            if k == 3 or v == 3 :\n",
        "                    print(k)\n",
        "                    print(v)\n"
      ]
    },
    {
      "cell_type": "code",
      "execution_count": null,
      "id": "776d959d",
      "metadata": {
        "id": "776d959d"
      },
      "outputs": [],
      "source": [
        "a = \"sudh\"\n",
        "\n",
        "if \"3\" in a:\n",
        "    print(\"yes\")\n",
        "else:\n",
        "    print(\"No\")\n"
      ]
    },
    {
      "cell_type": "code",
      "execution_count": null,
      "id": "81e7d146",
      "metadata": {
        "id": "81e7d146"
      },
      "outputs": [],
      "source": [
        "a = \"sudh\"\n",
        "\n",
        "if 3 in a:\n",
        "    print(\"yes\")\n",
        "else:\n",
        "    print(\"No\")\n",
        "\n",
        "\n",
        "\n",
        "b = [\"sudh\",\"kumar\",\"vyas\"]\n",
        "\n",
        "if 3 in b:\n",
        "    print(\"yes\")\n",
        "else:\n",
        "    print(\"No\")\n"
      ]
    },
    {
      "cell_type": "code",
      "execution_count": null,
      "id": "8fec796f",
      "metadata": {
        "id": "8fec796f"
      },
      "outputs": [],
      "source": [
        "n = 4\n",
        "for i in range(4) :\n",
        "    for j in range(0,i+1) :\n",
        "        print(\"sudh\" , end =\" \")\n",
        "    print(\"\\n\")\n"
      ]
    },
    {
      "cell_type": "code",
      "execution_count": null,
      "id": "3d5e2090",
      "metadata": {
        "id": "3d5e2090"
      },
      "outputs": [],
      "source": [
        "n=3\n",
        "for i in range (n):\n",
        "    for j in range(i,n-1):\n",
        "        print(\"\" *len(\"sudh\"),end= \" \")\n",
        "    for j in range (i+1):\n",
        "        print(\"sudh\",end=\" \" )\n",
        "    for j in range(i):\n",
        "        print(\"sudh\",end= \" \")\n",
        "    print()\n"
      ]
    },
    {
      "cell_type": "code",
      "execution_count": null,
      "id": "2eef345e",
      "metadata": {
        "id": "2eef345e"
      },
      "outputs": [],
      "source": [
        "for i in t :\n",
        "    if type(i) == list or type (i) == tuple :\n",
        "        for j in i :\n",
        "            if j ==3 :\n",
        "                print(j)\n",
        "    if type(i) ==dict :\n",
        "            for k,v in i . items():\n",
        "                if k == 3 or v == 3:\n",
        "                    print(k)   \n",
        "                    print(v)\n"
      ]
    },
    {
      "cell_type": "code",
      "execution_count": null,
      "id": "414d91fa",
      "metadata": {
        "id": "414d91fa"
      },
      "outputs": [],
      "source": [
        "b = input()"
      ]
    },
    {
      "cell_type": "code",
      "execution_count": null,
      "id": "c2d2c091",
      "metadata": {
        "id": "c2d2c091"
      },
      "outputs": [],
      "source": [
        ""
      ]
    }
  ],
  "metadata": {
    "kernelspec": {
      "display_name": "Python 3 (ipykernel)",
      "language": "python",
      "name": "python3"
    },
    "language_info": {
      "codemirror_mode": {
        "name": "ipython",
        "version": 3
      },
      "file_extension": ".py",
      "mimetype": "text/x-python",
      "name": "python",
      "nbconvert_exporter": "python",
      "pygments_lexer": "ipython3",
      "version": "3.9.7"
    },
    "colab": {
      "name": "for loop practice  (1).ipynb",
      "provenance": []
    }
  },
  "nbformat": 4,
  "nbformat_minor": 5
}