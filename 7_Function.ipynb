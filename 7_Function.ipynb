{
  "cells": [
    {
      "cell_type": "code",
      "execution_count": null,
      "id": "8c4ac194",
      "metadata": {
        "id": "8c4ac194"
      },
      "outputs": [],
      "source": [
        "def test(a , b) :\n",
        "    \"\"\"this is my function for concatination or addition \"\"\"\n",
        "    return a + b\n",
        "    "
      ]
    },
    {
      "cell_type": "code",
      "execution_count": null,
      "id": "57c9e144",
      "metadata": {
        "id": "57c9e144"
      },
      "outputs": [],
      "source": [
        "test(4,6)"
      ]
    },
    {
      "cell_type": "code",
      "execution_count": null,
      "id": "4a8f16e3",
      "metadata": {
        "id": "4a8f16e3"
      },
      "outputs": [],
      "source": [
        "test(\"sudh\" , \"kumar\")"
      ]
    },
    {
      "cell_type": "code",
      "execution_count": null,
      "id": "b2c7ba78",
      "metadata": {
        "id": "b2c7ba78"
      },
      "outputs": [],
      "source": [
        "test(a = 9  , b = 6 )"
      ]
    },
    {
      "cell_type": "code",
      "execution_count": null,
      "id": "8dfdf9f5",
      "metadata": {
        "id": "8dfdf9f5"
      },
      "outputs": [],
      "source": [
        "test(b = 45 , a = 3)"
      ]
    },
    {
      "cell_type": "code",
      "execution_count": null,
      "id": "efdfc7a0",
      "metadata": {
        "id": "efdfc7a0"
      },
      "outputs": [],
      "source": [
        "print()"
      ]
    },
    {
      "cell_type": "code",
      "execution_count": null,
      "id": "dd9fd2e6",
      "metadata": {
        "id": "dd9fd2e6"
      },
      "outputs": [],
      "source": [
        "def test1(a,b,c,d,e) :\n",
        "    return a ,b ,c,d,e\n",
        "    "
      ]
    },
    {
      "cell_type": "code",
      "execution_count": null,
      "id": "21deeecc",
      "metadata": {
        "id": "21deeecc"
      },
      "outputs": [],
      "source": [
        "test1(3,4,5,6)"
      ]
    },
    {
      "cell_type": "code",
      "execution_count": null,
      "id": "e4bbced7",
      "metadata": {
        "id": "e4bbced7"
      },
      "outputs": [],
      "source": [
        "def test(*a):\n",
        "    return a"
      ]
    },
    {
      "cell_type": "code",
      "execution_count": null,
      "id": "1c32c74c",
      "metadata": {
        "id": "1c32c74c"
      },
      "outputs": [],
      "source": [
        "test(34,56)"
      ]
    },
    {
      "cell_type": "code",
      "execution_count": null,
      "id": "a1622430",
      "metadata": {
        "id": "a1622430"
      },
      "outputs": [],
      "source": [
        "test(2,3,4,4)"
      ]
    },
    {
      "cell_type": "code",
      "execution_count": null,
      "id": "cb36ee2e",
      "metadata": {
        "id": "cb36ee2e"
      },
      "outputs": [],
      "source": [
        "test(4,5,6,6,6,[3,4,5,5,5,6])"
      ]
    },
    {
      "cell_type": "code",
      "execution_count": null,
      "id": "035bb9ff",
      "metadata": {
        "id": "035bb9ff"
      },
      "outputs": [],
      "source": [
        "def test4(*args):\n",
        "    return args"
      ]
    },
    {
      "cell_type": "code",
      "execution_count": null,
      "id": "15c5b0af",
      "metadata": {
        "id": "15c5b0af"
      },
      "outputs": [],
      "source": [
        "test4(34,56,6,76,7)"
      ]
    },
    {
      "cell_type": "code",
      "execution_count": null,
      "id": "35ff9563",
      "metadata": {
        "id": "35ff9563"
      },
      "outputs": [],
      "source": [
        "def test5(*a) :\n",
        "    l = []\n",
        "    for i in a :\n",
        "        l.append(i)\n",
        "    return l"
      ]
    },
    {
      "cell_type": "code",
      "execution_count": null,
      "id": "5cb6b9a9",
      "metadata": {
        "id": "5cb6b9a9"
      },
      "outputs": [],
      "source": [
        "test5(2,3,4,45,5,[345,56,5,6])"
      ]
    },
    {
      "cell_type": "code",
      "execution_count": null,
      "id": "a7d303e8",
      "metadata": {
        "id": "a7d303e8"
      },
      "outputs": [],
      "source": [
        "test5(3,4,5,56)"
      ]
    },
    {
      "cell_type": "code",
      "execution_count": null,
      "id": "6506865d",
      "metadata": {
        "id": "6506865d"
      },
      "outputs": [],
      "source": [
        "def test6(a,b,c,d , *m):\n",
        "    return a , b, c,d, m"
      ]
    },
    {
      "cell_type": "code",
      "execution_count": null,
      "id": "9e46bda9",
      "metadata": {
        "id": "9e46bda9"
      },
      "outputs": [],
      "source": [
        "test6(3,4,5,5,6,6,7,7,8,8)"
      ]
    },
    {
      "cell_type": "code",
      "execution_count": null,
      "id": "dbcee1ef",
      "metadata": {
        "id": "dbcee1ef"
      },
      "outputs": [],
      "source": [
        "def test7(*m,a,b,c,d,e):\n",
        "    return m , a,b,c,d,e"
      ]
    },
    {
      "cell_type": "code",
      "execution_count": null,
      "id": "48971316",
      "metadata": {
        "id": "48971316"
      },
      "outputs": [],
      "source": [
        "test7(4,5,65,6,6,7,7,56,a = 67,b  = 34,c = 54,d= 67,e = 78)"
      ]
    },
    {
      "cell_type": "code",
      "execution_count": null,
      "id": "93d66303",
      "metadata": {
        "id": "93d66303"
      },
      "outputs": [],
      "source": [
        "def test8(**sudh):\n",
        "    return sudh"
      ]
    },
    {
      "cell_type": "code",
      "execution_count": null,
      "id": "f81d76f0",
      "metadata": {
        "id": "f81d76f0"
      },
      "outputs": [],
      "source": [
        "test8(b = 4,c = 5,d =  6,e = 6 , n = [3,4,45,5,6,6,6])"
      ]
    },
    {
      "cell_type": "code",
      "execution_count": null,
      "id": "df0bb162",
      "metadata": {
        "id": "df0bb162"
      },
      "outputs": [],
      "source": [
        "def test11(*m):\n",
        "    n=1\n",
        "    for i in m:\n",
        "        if type(i)==int:\n",
        "            n=n*i\n",
        "        return n\n"
      ]
    },
    {
      "cell_type": "code",
      "execution_count": null,
      "id": "3861be80",
      "metadata": {
        "id": "3861be80"
      },
      "outputs": [],
      "source": [
        "test11(2,3,4,5,6,7,8)\n"
      ]
    },
    {
      "cell_type": "code",
      "execution_count": null,
      "id": "27ecf375",
      "metadata": {
        "id": "27ecf375"
      },
      "outputs": [],
      "source": [
        ""
      ]
    },
    {
      "cell_type": "code",
      "execution_count": null,
      "id": "8f4b1257",
      "metadata": {
        "id": "8f4b1257"
      },
      "outputs": [],
      "source": [
        "d = {'b': 4, 'c': 5, 'd': 6, 'e': 6}"
      ]
    },
    {
      "cell_type": "code",
      "execution_count": null,
      "id": "f70f758c",
      "metadata": {
        "id": "f70f758c"
      },
      "outputs": [],
      "source": [
        "test8(d)"
      ]
    },
    {
      "cell_type": "code",
      "execution_count": null,
      "id": "144b1dcf",
      "metadata": {
        "id": "144b1dcf"
      },
      "outputs": [],
      "source": [
        "def test9(*m , **s) :\n",
        "    return m , s"
      ]
    },
    {
      "cell_type": "code",
      "execution_count": null,
      "id": "a4644925",
      "metadata": {
        "id": "a4644925"
      },
      "outputs": [],
      "source": [
        "test9(345,45,56,5,6,56,b= 4,c= 6, d = 7 , g = 9)"
      ]
    },
    {
      "cell_type": "code",
      "execution_count": null,
      "id": "7967d620",
      "metadata": {
        "id": "7967d620"
      },
      "outputs": [],
      "source": [
        "def test10(*m):\n",
        "    n = 0\n",
        "    for i in m :\n",
        "        if type(i) == int :\n",
        "            n = n+i\n",
        "    return n\n",
        "            "
      ]
    },
    {
      "cell_type": "code",
      "execution_count": null,
      "id": "3aa2bfb8",
      "metadata": {
        "id": "3aa2bfb8"
      },
      "outputs": [],
      "source": [
        "test10(2,3,4,5,5,6,6)"
      ]
    },
    {
      "cell_type": "code",
      "execution_count": null,
      "id": "5fdeb17d",
      "metadata": {
        "id": "5fdeb17d"
      },
      "outputs": [],
      "source": [
        "test10(2,3,4)"
      ]
    },
    {
      "cell_type": "code",
      "execution_count": null,
      "id": "633e2a4d",
      "metadata": {
        "id": "633e2a4d"
      },
      "outputs": [],
      "source": [
        "def test1(*m):\n",
        "    n = 1\n",
        "    for i in m :\n",
        "        if type(i) == int :\n",
        "            n = n*i\n",
        "    return n\n",
        "            "
      ]
    },
    {
      "cell_type": "code",
      "execution_count": null,
      "id": "9a7b3f3c",
      "metadata": {
        "id": "9a7b3f3c"
      },
      "outputs": [],
      "source": [
        "test1(4,5,6,6,7,87,8)"
      ]
    },
    {
      "cell_type": "code",
      "execution_count": null,
      "id": "a240987d",
      "metadata": {
        "id": "a240987d"
      },
      "outputs": [],
      "source": [
        "n = lambda a , b : a + b "
      ]
    },
    {
      "cell_type": "code",
      "execution_count": null,
      "id": "24747816",
      "metadata": {
        "id": "24747816"
      },
      "outputs": [],
      "source": [
        "n(4,5)"
      ]
    },
    {
      "cell_type": "code",
      "execution_count": null,
      "id": "1a6f8606",
      "metadata": {
        "id": "1a6f8606"
      },
      "outputs": [],
      "source": [
        "def test5(a,b):\n",
        "    return a + b "
      ]
    },
    {
      "cell_type": "code",
      "execution_count": null,
      "id": "c438cd09",
      "metadata": {
        "id": "c438cd09"
      },
      "outputs": [],
      "source": [
        "test5(4,5)"
      ]
    },
    {
      "cell_type": "code",
      "execution_count": null,
      "id": "f1274c0b",
      "metadata": {
        "id": "f1274c0b"
      },
      "outputs": [],
      "source": [
        "n(5,6)"
      ]
    },
    {
      "cell_type": "code",
      "execution_count": null,
      "id": "a33a46c7",
      "metadata": {
        "id": "a33a46c7"
      },
      "outputs": [],
      "source": [
        "b = lambda *sudh : sudh"
      ]
    },
    {
      "cell_type": "code",
      "execution_count": null,
      "id": "8661cc0a",
      "metadata": {
        "id": "8661cc0a"
      },
      "outputs": [],
      "source": [
        "b(45,5,4,5,5,6,677)"
      ]
    },
    {
      "cell_type": "code",
      "execution_count": null,
      "id": "c9cd5a0a",
      "metadata": {
        "id": "c9cd5a0a"
      },
      "outputs": [],
      "source": [
        "t = (3,4,4,5,5,6,67,7,7)\n",
        "l = []\n",
        "for i in t :\n",
        "    l.append(i)"
      ]
    },
    {
      "cell_type": "code",
      "execution_count": null,
      "id": "8f655ead",
      "metadata": {
        "id": "8f655ead"
      },
      "outputs": [],
      "source": [
        "l"
      ]
    },
    {
      "cell_type": "code",
      "execution_count": null,
      "id": "83753bad",
      "metadata": {
        "id": "83753bad"
      },
      "outputs": [],
      "source": [
        "[i for i in t]"
      ]
    },
    {
      "cell_type": "code",
      "execution_count": null,
      "id": "ee397949",
      "metadata": {
        "id": "ee397949"
      },
      "outputs": [],
      "source": [
        "s = \"sudh\""
      ]
    },
    {
      "cell_type": "code",
      "execution_count": null,
      "id": "aa8d745b",
      "metadata": {
        "id": "aa8d745b"
      },
      "outputs": [],
      "source": [
        "[i for i in s ]"
      ]
    },
    {
      "cell_type": "code",
      "execution_count": null,
      "id": "282fb8ab",
      "metadata": {
        "id": "282fb8ab"
      },
      "outputs": [],
      "source": [
        "[i*i for i in range(10)]"
      ]
    },
    {
      "cell_type": "code",
      "execution_count": null,
      "id": "a6312326",
      "metadata": {
        "id": "a6312326"
      },
      "outputs": [],
      "source": [
        "l = []\n",
        "for i in range(10):\n",
        "    l.append(i*i)"
      ]
    },
    {
      "cell_type": "code",
      "execution_count": null,
      "id": "9a63b637",
      "metadata": {
        "id": "9a63b637"
      },
      "outputs": [],
      "source": [
        "l\n"
      ]
    },
    {
      "cell_type": "code",
      "execution_count": null,
      "id": "7ab81a42",
      "metadata": {
        "id": "7ab81a42"
      },
      "outputs": [],
      "source": [
        "l = lambda *x : [i**2 for i in x ]"
      ]
    },
    {
      "cell_type": "code",
      "execution_count": null,
      "id": "937a9e1a",
      "metadata": {
        "id": "937a9e1a"
      },
      "outputs": [],
      "source": [
        "l(4,45,5,6,6,7,8,9)"
      ]
    },
    {
      "cell_type": "code",
      "execution_count": null,
      "id": "fbd6fb88",
      "metadata": {
        "id": "fbd6fb88"
      },
      "outputs": [],
      "source": [
        "test14(a = 7 , b = \"sudh\" , c = 345 , d = \"sudh\" , l = [2,3,4,45 , \"sudh\"])"
      ]
    },
    {
      "cell_type": "code",
      "execution_count": null,
      "id": "dfc97462",
      "metadata": {
        "id": "dfc97462"
      },
      "outputs": [],
      "source": [
        "def test14(**kwargs) : \n",
        "    "
      ]
    },
    {
      "cell_type": "code",
      "execution_count": null,
      "id": "b773de2d",
      "metadata": {
        "id": "b773de2d"
      },
      "outputs": [],
      "source": [
        "l = lambda *x : [i for i in x]\n"
      ]
    },
    {
      "cell_type": "code",
      "execution_count": null,
      "id": "3399aaa6",
      "metadata": {
        "id": "3399aaa6"
      },
      "outputs": [],
      "source": [
        ""
      ]
    },
    {
      "cell_type": "code",
      "execution_count": null,
      "id": "6236b359",
      "metadata": {
        "id": "6236b359"
      },
      "outputs": [],
      "source": [
        ""
      ]
    },
    {
      "cell_type": "code",
      "execution_count": null,
      "id": "bcdb3ea2",
      "metadata": {
        "id": "bcdb3ea2"
      },
      "outputs": [],
      "source": [
        ""
      ]
    },
    {
      "cell_type": "code",
      "execution_count": null,
      "id": "47852a10",
      "metadata": {
        "id": "47852a10"
      },
      "outputs": [],
      "source": [
        "def test14(**kwargs):\n",
        "    count = 0\n",
        "    print(kwargs)\n",
        "    print(kwargs.values())\n",
        "    for v in kwargs.values():\n",
        "        if type(v) == str:\n",
        "            count += 1\n",
        "        if type(v) == list :\n",
        "            for i in v :\n",
        "                if type(i) == str :\n",
        "                    count+= 1\n",
        "    return count\n",
        "\n"
      ]
    },
    {
      "cell_type": "code",
      "execution_count": null,
      "id": "1431d350",
      "metadata": {
        "id": "1431d350"
      },
      "outputs": [],
      "source": [
        "test14(a = 7 , b = \"sudh\" , c = 345 , d = \"sudh\" , l = [2,3,4,45 , \"sudh\"])"
      ]
    },
    {
      "cell_type": "code",
      "execution_count": null,
      "id": "79ac42cf",
      "metadata": {
        "id": "79ac42cf"
      },
      "outputs": [],
      "source": [
        "def test15(**kwargs) :\n",
        "    return list(kwargs.values())"
      ]
    },
    {
      "cell_type": "code",
      "execution_count": null,
      "id": "8830ef2c",
      "metadata": {
        "id": "8830ef2c"
      },
      "outputs": [],
      "source": [
        "test15(a = 7 , b = \"sudh\" , c = 345 , d = \"sudh\" , l = [2,3,4,45 , \"sudh\"])"
      ]
    },
    {
      "cell_type": "code",
      "execution_count": null,
      "id": "495c47e2",
      "metadata": {
        "id": "495c47e2"
      },
      "outputs": [],
      "source": [
        "Todays task :\n",
        "    q1 : Try to print a prime number in between 1 to 1000\n",
        "    q2 : Try to write a function which  is equivalent  to print function in python\n",
        "    q3 : Try to write a function which is a replica of list append , extend and pop function \n",
        "    q4 : Try to write a lambda function which can return a concatination of all the string that we will pass\n",
        "    q5 : Try to write a lambda function which can return list of square of all the data between 1-100 \n",
        "    q6 : Try to write a 10 Different different example of lambda function with a choice of your taks \n",
        "    q7 : Try to wwrite a funtion whihc can perform a read operation from .txt file \n",
        "        \n",
        "        shivan@ineuron.ai\n",
        "        sudhashu@ineuron.ai"
      ]
    },
    {
      "cell_type": "code",
      "execution_count": null,
      "id": "8a9d2977",
      "metadata": {
        "id": "8a9d2977"
      },
      "outputs": [],
      "source": [
        "def test4(a, b, c, *m):\n",
        "  return a, b, c, m\n",
        "\n",
        "test4(5,6,2,4,[5,2])\n",
        "\n"
      ]
    },
    {
      "cell_type": "code",
      "execution_count": null,
      "id": "49abd649",
      "metadata": {
        "id": "49abd649"
      },
      "outputs": [],
      "source": [
        "b= lambda *a : a \n",
        "b(1,2,3)"
      ]
    },
    {
      "cell_type": "code",
      "execution_count": null,
      "id": "46ae7092",
      "metadata": {
        "id": "46ae7092"
      },
      "outputs": [],
      "source": [
        "n=10\n",
        "[i for i in n]\n"
      ]
    },
    {
      "cell_type": "code",
      "execution_count": null,
      "id": "1b078bae",
      "metadata": {
        "id": "1b078bae"
      },
      "outputs": [],
      "source": [
        "def test15(**kwargs):\n",
        "    return list(kwargs.values())\n",
        "test15(a1=1,12=2,13=12)\n"
      ]
    },
    {
      "cell_type": "code",
      "execution_count": null,
      "id": "1c961733",
      "metadata": {
        "id": "1c961733"
      },
      "outputs": [],
      "source": [
        "t=(1,2,3,4)\n",
        "[i for i in t]"
      ]
    },
    {
      "cell_type": "code",
      "execution_count": null,
      "id": "ec423820",
      "metadata": {
        "id": "ec423820"
      },
      "outputs": [],
      "source": [
        "l = lambda *x: [i**2 for i in x]"
      ]
    },
    {
      "cell_type": "code",
      "execution_count": null,
      "id": "253dd7bc",
      "metadata": {
        "id": "253dd7bc"
      },
      "outputs": [],
      "source": [
        "l(4,5,6,7)"
      ]
    },
    {
      "cell_type": "code",
      "execution_count": null,
      "id": "15d4db6a",
      "metadata": {
        "id": "15d4db6a"
      },
      "outputs": [],
      "source": [
        "def test10(*m):\n",
        "    n=1\n",
        "    for i in m:\n",
        "        if type(i) == int :\n",
        "            n=n*i\n",
        "    return n\n"
      ]
    },
    {
      "cell_type": "code",
      "execution_count": null,
      "id": "3081e626",
      "metadata": {
        "id": "3081e626"
      },
      "outputs": [],
      "source": [
        "test10(4,4,5,5,6)"
      ]
    },
    {
      "cell_type": "code",
      "execution_count": null,
      "id": "46763bfc",
      "metadata": {
        "id": "46763bfc"
      },
      "outputs": [],
      "source": [
        "L=[1,2,4,5,[1,3,4,6]]\n",
        "\n",
        "L.pop(2)\n",
        "L\n"
      ]
    },
    {
      "cell_type": "code",
      "execution_count": null,
      "id": "4f309d28",
      "metadata": {
        "id": "4f309d28"
      },
      "outputs": [],
      "source": [
        "b=lambda *a : a\n",
        "b(1,2,3)"
      ]
    },
    {
      "cell_type": "code",
      "execution_count": null,
      "id": "ed2d36af",
      "metadata": {
        "id": "ed2d36af"
      },
      "outputs": [],
      "source": [
        "def test5(*a,x,y,z):\n",
        "    return *a,x,y,z,\n",
        "test5 (8,8,9,9,7,7,7,3,x=5,y=7,z=5)\n"
      ]
    },
    {
      "cell_type": "code",
      "execution_count": null,
      "id": "07e180ef",
      "metadata": {
        "id": "07e180ef"
      },
      "outputs": [],
      "source": [
        "s='Deepak'\n",
        "\n",
        "s[-1::-1]\n"
      ]
    },
    {
      "cell_type": "code",
      "execution_count": null,
      "id": "954d3347",
      "metadata": {
        "id": "954d3347"
      },
      "outputs": [],
      "source": [
        "s[0:6:-1]"
      ]
    },
    {
      "cell_type": "code",
      "execution_count": null,
      "id": "664a8d12",
      "metadata": {
        "id": "664a8d12"
      },
      "outputs": [],
      "source": [
        "def aad(a,b):\n",
        "    '''this is my functionde'''\n",
        "    z = a+b\n",
        "    return z\n",
        "    h = a*b\n",
        "    return h\n"
      ]
    },
    {
      "cell_type": "code",
      "execution_count": null,
      "id": "d7c8092d",
      "metadata": {
        "id": "d7c8092d"
      },
      "outputs": [],
      "source": [
        "aad(1,2)"
      ]
    },
    {
      "cell_type": "code",
      "execution_count": null,
      "id": "18c2a2d1",
      "metadata": {
        "id": "18c2a2d1"
      },
      "outputs": [],
      "source": [
        "def test10(*m , **sm):\n",
        "    return m,sm"
      ]
    },
    {
      "cell_type": "code",
      "execution_count": null,
      "id": "2427f5b7",
      "metadata": {
        "id": "2427f5b7"
      },
      "outputs": [],
      "source": [
        "s=\"ajezon\"\n",
        "a=0 \n",
        "v='aeiou'\n",
        "while a < len(s):\n",
        "    if s[a] in v :\n",
        "        print(s.replace(s[a] ,\"*\"))\n",
        "    a = a + 1\n"
      ]
    },
    {
      "cell_type": "code",
      "execution_count": null,
      "id": "8a69dc27",
      "metadata": {
        "id": "8a69dc27"
      },
      "outputs": [],
      "source": [
        "find_status= lambda a: 'Low' if (a<5000) elif a>=5000 and a<=25000 'Standard' else 'High'\n"
      ]
    },
    {
      "cell_type": "code",
      "execution_count": null,
      "id": "7953aea0",
      "metadata": {
        "id": "7953aea0"
      },
      "outputs": [],
      "source": [
        "d={\"ab\":1,'cd':2,'ef':3}\n",
        "\n",
        "for k in d:\n",
        "    print(k)\n"
      ]
    },
    {
      "cell_type": "code",
      "execution_count": null,
      "id": "0c3659ba",
      "metadata": {
        "id": "0c3659ba"
      },
      "outputs": [],
      "source": [
        "# I want to perform multiplication using lambda functions, how can we do it?\n",
        "\n",
        "m=3\n",
        "b = lambda *args : [m=m*i for i in args]\n",
        "\n",
        "b(2,3)\n"
      ]
    },
    {
      "cell_type": "code",
      "execution_count": null,
      "id": "8310b48a",
      "metadata": {
        "id": "8310b48a"
      },
      "outputs": [],
      "source": [
        "t = (3, 4, 5, 6, 78)\n",
        "l = [i for i in t]\n",
        "print(l)\n",
        "ab = list(j for j in l)\n",
        "print(ab)\n"
      ]
    },
    {
      "cell_type": "code",
      "execution_count": null,
      "id": "98c5383e",
      "metadata": {
        "id": "98c5383e"
      },
      "outputs": [],
      "source": [
        "def test14(**kwargs):\n",
        "    count = 0\n",
        "    print(kwargs)\n",
        "    print(kwargs.values())\n",
        "    for v in kwargs.values():\n",
        "        if type(v)==str:\n",
        "            count+=1\n",
        "        if type(v)==list:\n",
        "            count+=1\n",
        "    return count\n",
        "\n",
        "test14(a=7,b=\"Shan\",c=345,d=\"dd\",l=[2,3,4,5,\"Su\"])\n"
      ]
    },
    {
      "cell_type": "code",
      "execution_count": null,
      "id": "1721c3a3",
      "metadata": {
        "id": "1721c3a3"
      },
      "outputs": [],
      "source": [
        "def test15(**kwargs):\n",
        "    {i:j for i,j in kwargs.items()}"
      ]
    },
    {
      "cell_type": "code",
      "execution_count": null,
      "id": "fbafdc31",
      "metadata": {
        "id": "fbafdc31"
      },
      "outputs": [],
      "source": [
        "def test14(**kargs):\n",
        "    count=0\n",
        "    print(kargs.values())\n",
        "    for i in kargs.values():\n",
        "        print(i)\n",
        "        print(type(i) == str)\n",
        "        if type(i) == str:\n",
        "            count=count+1\n",
        "        if type(i) == list:\n",
        "            for j in i:\n",
        "                if type(j) == str:\n",
        "                    count=count+1\n",
        "    return count\n"
      ]
    },
    {
      "cell_type": "code",
      "execution_count": null,
      "id": "572273ce",
      "metadata": {
        "id": "572273ce"
      },
      "outputs": [],
      "source": [
        "def func(**kwargs):\n",
        "    count = 0\n",
        "    for e in kwargs.values():\n",
        "        if type(e) == list:\n",
        "            for ele in  e:\n",
        "                if type(ele) == str:\n",
        "                    count += 1\n",
        "    return count\n",
        "func(v1 = 2,v2 = 3,v3=4, v4=5,name=\"Mohamed\", data=[\"ineuron\", \"MLDL\", 2021])"
      ]
    },
    {
      "cell_type": "code",
      "execution_count": null,
      "id": "4079e449",
      "metadata": {
        "id": "4079e449"
      },
      "outputs": [],
      "source": [
        "l= lambda *x : [i*2 for i in x]\n",
        "l(2,3,4,5)\n"
      ]
    },
    {
      "cell_type": "code",
      "execution_count": null,
      "id": "3fe9d4a7",
      "metadata": {
        "id": "3fe9d4a7"
      },
      "outputs": [],
      "source": [
        "def func(**kwargs):\n",
        "    count = 0\n",
        "    for e in kwargs.values():\n",
        "        if type(e) == list:\n",
        "            for ele in  e:\n",
        "                if type(ele) == str:\n",
        "                    count += 1\n",
        "    return count\n",
        "func(v1 = 2,v2 = 3,v3=4, v4=5,name=\"Mohamed\", data=[\"ineuron\", \"MLDL\", 2021])\n"
      ]
    },
    {
      "cell_type": "code",
      "execution_count": null,
      "id": "3fe865b7",
      "metadata": {
        "id": "3fe865b7"
      },
      "outputs": [],
      "source": [
        "def test15(**kwargs):\n",
        "    return list(kwargs.values())\n"
      ]
    },
    {
      "cell_type": "code",
      "execution_count": null,
      "id": "6d6bc8d8",
      "metadata": {
        "id": "6d6bc8d8"
      },
      "outputs": [],
      "source": [
        "test15(a=7,b='Abhi',c=345,d='Abhi',l=[2,3,45,'Abhi'])"
      ]
    },
    {
      "cell_type": "code",
      "execution_count": null,
      "id": "b69711d3",
      "metadata": {
        "id": "b69711d3"
      },
      "outputs": [],
      "source": [
        "n=3\n",
        "for i in range(n+1):\n",
        "    print(\" \"* (n-i) + 'pawan  '*i,\"\\n\")\n"
      ]
    },
    {
      "cell_type": "code",
      "execution_count": null,
      "id": "39d1ff7a",
      "metadata": {
        "id": "39d1ff7a"
      },
      "outputs": [],
      "source": [
        "data = [1,\n",
        " 2,\n",
        " 3,\n",
        " 4,\n",
        " 2,\n",
        " 3,\n",
        " 4,\n",
        " 5,\n",
        " 6,\n",
        " 3,\n",
        " 4,\n",
        " 5,\n",
        " 6,\n",
        " 7,\n",
        " 45,\n",
        " 4,\n",
        " 5,\n",
        " 23,\n",
        " 'k1',\n",
        " 'k2',\n",
        " 'k3',\n",
        " 3,\n",
        " 7,\n",
        " 'sudh',\n",
        " 'ineuron',\n",
        " 'kumar',\n",
        " 6,\n",
        " 8,\n",
        " 'ineuron',\n",
        " 'data science']\n",
        "\n",
        "for i in data:\n",
        "    \n",
        "    if type(i) == str:\n",
        "        print(i)\n",
        "        if i.isalnum(): \n",
        "            print(i)\n"
      ]
    },
    {
      "cell_type": "code",
      "execution_count": null,
      "id": "20833d25",
      "metadata": {
        "id": "20833d25"
      },
      "outputs": [],
      "source": [
        "b=lambda *sudh : sudh\n",
        "b(45,5,4,5,5,6,677)\n"
      ]
    },
    {
      "cell_type": "code",
      "execution_count": null,
      "id": "35ecbb5a",
      "metadata": {
        "id": "35ecbb5a"
      },
      "outputs": [],
      "source": [
        "def test11(*m):\n",
        "    n=1\n",
        "    for i in m:\n",
        "        if type(i)==int:\n",
        "            n=n*i\n",
        "        return n\n"
      ]
    },
    {
      "cell_type": "code",
      "execution_count": null,
      "id": "a70fc8f8",
      "metadata": {
        "id": "a70fc8f8"
      },
      "outputs": [],
      "source": [
        "def test13(**kwargs):\n",
        "    count = 0\n",
        "    for i in kwargs.values():\n",
        "        if type(i) == str or type(i) == list: \n",
        "            for j in i:\n",
        "                count += 1\n",
        "        return count"
      ]
    },
    {
      "cell_type": "code",
      "execution_count": null,
      "id": "382ffdde",
      "metadata": {
        "id": "382ffdde"
      },
      "outputs": [],
      "source": [
        "def test15(**s):\n",
        "    return {i:j for i,j in s.items()}\n"
      ]
    },
    {
      "cell_type": "code",
      "execution_count": null,
      "id": "b5c84313",
      "metadata": {
        "id": "b5c84313"
      },
      "outputs": [],
      "source": [
        "test15(a = 1 , b  = 5 , n = 4 )"
      ]
    },
    {
      "cell_type": "code",
      "execution_count": null,
      "id": "26a132d5",
      "metadata": {
        "id": "26a132d5"
      },
      "outputs": [],
      "source": [
        ""
      ]
    }
  ],
  "metadata": {
    "kernelspec": {
      "display_name": "Python 3 (ipykernel)",
      "language": "python",
      "name": "python3"
    },
    "language_info": {
      "codemirror_mode": {
        "name": "ipython",
        "version": 3
      },
      "file_extension": ".py",
      "mimetype": "text/x-python",
      "name": "python",
      "nbconvert_exporter": "python",
      "pygments_lexer": "ipython3",
      "version": "3.9.7"
    },
    "colab": {
      "name": "Function continued .ipynb",
      "provenance": []
    }
  },
  "nbformat": 4,
  "nbformat_minor": 5
}